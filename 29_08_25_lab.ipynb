{
  "nbformat": 4,
  "nbformat_minor": 0,
  "metadata": {
    "colab": {
      "provenance": [],
      "authorship_tag": "ABX9TyPvOk75o4hCylMWUFYYB834",
      "include_colab_link": true
    },
    "kernelspec": {
      "name": "python3",
      "display_name": "Python 3"
    },
    "language_info": {
      "name": "python"
    }
  },
  "cells": [
    {
      "cell_type": "markdown",
      "metadata": {
        "id": "view-in-github",
        "colab_type": "text"
      },
      "source": [
        "<a href=\"https://colab.research.google.com/github/Kasurirohith/B23_10I2/blob/main/29_08_25_lab.ipynb\" target=\"_parent\"><img src=\"https://colab.research.google.com/assets/colab-badge.svg\" alt=\"Open In Colab\"/></a>"
      ]
    },
    {
      "cell_type": "code",
      "execution_count": 9,
      "metadata": {
        "id": "tTrPD-nKBJlP"
      },
      "outputs": [],
      "source": [
        "import pandas as pd\n"
      ]
    },
    {
      "cell_type": "code",
      "source": [
        "data = [10, 20, 30, 40, 50]\n",
        "series = pd.Series(data)\n",
        "print(\"Pandas Series:\")\n",
        "print(series)\n"
      ],
      "metadata": {
        "colab": {
          "base_uri": "https://localhost:8080/"
        },
        "id": "IUo2iwTfBTc7",
        "outputId": "cd7ca4a3-0559-4db2-eda6-ffd02ebcd8f6"
      },
      "execution_count": 10,
      "outputs": [
        {
          "output_type": "stream",
          "name": "stdout",
          "text": [
            "Pandas Series:\n",
            "0    10\n",
            "1    20\n",
            "2    30\n",
            "3    40\n",
            "4    50\n",
            "dtype: int64\n"
          ]
        }
      ]
    },
    {
      "cell_type": "code",
      "source": [
        "data = [10, 20, 30, 40, 50]\n",
        "index_labels = ['a', 'b', 'c', 'd', 'e']\n",
        "series = pd.Series(data, index=index_labels)\n",
        "print(\"Series with Custom Index:\")\n",
        "print(series)\n"
      ],
      "metadata": {
        "colab": {
          "base_uri": "https://localhost:8080/"
        },
        "id": "z0IrFjwRBg7q",
        "outputId": "fb970bd0-aec6-48e4-9a74-3680a3a8c852"
      },
      "execution_count": 11,
      "outputs": [
        {
          "output_type": "stream",
          "name": "stdout",
          "text": [
            "Series with Custom Index:\n",
            "a    10\n",
            "b    20\n",
            "c    30\n",
            "d    40\n",
            "e    50\n",
            "dtype: int64\n"
          ]
        }
      ]
    },
    {
      "cell_type": "code",
      "source": [
        "data = {\n",
        "    'Name': ['Alice', 'Bob', 'Charlie', 'David'],\n",
        "    'Age': [25, 30, 35, 40],\n",
        "    'City': ['Hyderabad', 'Hanamkonda', 'Warangal', 'Chennai']\n",
        "}\n",
        "df = pd.DataFrame(data)\n",
        "print(\"DataFrame:\")\n",
        "print(df)\n"
      ],
      "metadata": {
        "colab": {
          "base_uri": "https://localhost:8080/"
        },
        "id": "KNr8uryzCOrx",
        "outputId": "a9e89da5-1724-4793-e403-1047b8de6333"
      },
      "execution_count": 8,
      "outputs": [
        {
          "output_type": "stream",
          "name": "stdout",
          "text": [
            "DataFrame:\n",
            "      Name  Age        City\n",
            "0    Alice   25   Hyderabad\n",
            "1      Bob   30  Hanamkonda\n",
            "2  Charlie   35    Warangal\n",
            "3    David   40     Chennai\n"
          ]
        }
      ]
    },
    {
      "cell_type": "code",
      "source": [
        "data = {\n",
        "    'Name': ['Rohith','Sam','John','David'],\n",
        "    'Age': [25,30,35,40],\n",
        "    'City': ['Hyderabad','Delhi','Mumbai','Chennai']\n",
        "}\n",
        "df = pd.DataFrame(data)\n",
        "print(df)"
      ],
      "metadata": {
        "colab": {
          "base_uri": "https://localhost:8080/"
        },
        "id": "9_siiwI-DD7D",
        "outputId": "0bf0c0ba-661a-491c-e720-a38d745043cf"
      },
      "execution_count": 12,
      "outputs": [
        {
          "output_type": "stream",
          "name": "stdout",
          "text": [
            "     Name  Age       City\n",
            "0  Rohith   25  Hyderabad\n",
            "1     Sam   30      Delhi\n",
            "2    John   35     Mumbai\n",
            "3   David   40    Chennai\n"
          ]
        }
      ]
    },
    {
      "cell_type": "code",
      "source": [
        "\n",
        "print(df['Name'])\n"
      ],
      "metadata": {
        "colab": {
          "base_uri": "https://localhost:8080/"
        },
        "id": "JAFGM2eqDrlg",
        "outputId": "509c45ce-f7cd-44c4-cf68-d7eb230be6a1"
      },
      "execution_count": 13,
      "outputs": [
        {
          "output_type": "stream",
          "name": "stdout",
          "text": [
            "0    Rohith\n",
            "1       Sam\n",
            "2      John\n",
            "3     David\n",
            "Name: Name, dtype: object\n"
          ]
        }
      ]
    },
    {
      "cell_type": "code",
      "source": [
        "\n",
        "print(df['Name'])\n"
      ],
      "metadata": {
        "colab": {
          "base_uri": "https://localhost:8080/"
        },
        "id": "0sV0_iVODwGt",
        "outputId": "e6707821-23ae-456a-8730-72d83a2ff6ab"
      },
      "execution_count": 14,
      "outputs": [
        {
          "output_type": "stream",
          "name": "stdout",
          "text": [
            "0    Rohith\n",
            "1       Sam\n",
            "2      John\n",
            "3     David\n",
            "Name: Name, dtype: object\n"
          ]
        }
      ]
    },
    {
      "cell_type": "code",
      "source": [
        "\n",
        "print(df[['Name','City']])\n"
      ],
      "metadata": {
        "colab": {
          "base_uri": "https://localhost:8080/"
        },
        "id": "vqVkuUOQD0gx",
        "outputId": "822855d6-e812-4ec2-e802-a5543618b6e5"
      },
      "execution_count": 15,
      "outputs": [
        {
          "output_type": "stream",
          "name": "stdout",
          "text": [
            "     Name       City\n",
            "0  Rohith  Hyderabad\n",
            "1     Sam      Delhi\n",
            "2    John     Mumbai\n",
            "3   David    Chennai\n"
          ]
        }
      ]
    },
    {
      "cell_type": "code",
      "source": [
        "\n",
        "print(df.iloc[1])\n",
        "\n",
        "print(df.loc[2])\n"
      ],
      "metadata": {
        "colab": {
          "base_uri": "https://localhost:8080/"
        },
        "id": "lH6AeUGED3Y6",
        "outputId": "8ddf9243-2aa2-46e7-c1bb-cfe3fadbada5"
      },
      "execution_count": 16,
      "outputs": [
        {
          "output_type": "stream",
          "name": "stdout",
          "text": [
            "Name      Sam\n",
            "Age        30\n",
            "City    Delhi\n",
            "Name: 1, dtype: object\n",
            "Name      John\n",
            "Age         35\n",
            "City    Mumbai\n",
            "Name: 2, dtype: object\n"
          ]
        }
      ]
    },
    {
      "cell_type": "code",
      "source": [
        "\n",
        "df['Salary'] = [40000,50000,60000,70000]\n",
        "print(df)\n"
      ],
      "metadata": {
        "colab": {
          "base_uri": "https://localhost:8080/"
        },
        "id": "El2MgVwYD63i",
        "outputId": "7a70acfc-19f0-4653-e252-2be177931360"
      },
      "execution_count": 17,
      "outputs": [
        {
          "output_type": "stream",
          "name": "stdout",
          "text": [
            "     Name  Age       City  Salary\n",
            "0  Rohith   25  Hyderabad   40000\n",
            "1     Sam   30      Delhi   50000\n",
            "2    John   35     Mumbai   60000\n",
            "3   David   40    Chennai   70000\n"
          ]
        }
      ]
    },
    {
      "cell_type": "code",
      "source": [
        "\n",
        "df = df.drop('City',axis=1)\n",
        "print(df)\n"
      ],
      "metadata": {
        "colab": {
          "base_uri": "https://localhost:8080/"
        },
        "id": "lFHm_Fo4D-Kb",
        "outputId": "df39ae3b-44ea-4d7f-8e17-dfc8d565b217"
      },
      "execution_count": 18,
      "outputs": [
        {
          "output_type": "stream",
          "name": "stdout",
          "text": [
            "     Name  Age  Salary\n",
            "0  Rohith   25   40000\n",
            "1     Sam   30   50000\n",
            "2    John   35   60000\n",
            "3   David   40   70000\n"
          ]
        }
      ]
    },
    {
      "cell_type": "code",
      "source": [
        "\n",
        "print(df[df['Age']>30])\n"
      ],
      "metadata": {
        "colab": {
          "base_uri": "https://localhost:8080/"
        },
        "id": "VOuXs14DEBPQ",
        "outputId": "e85ad258-3c94-471d-9e72-c14b83fd5cf8"
      },
      "execution_count": 19,
      "outputs": [
        {
          "output_type": "stream",
          "name": "stdout",
          "text": [
            "    Name  Age  Salary\n",
            "2   John   35   60000\n",
            "3  David   40   70000\n"
          ]
        }
      ]
    },
    {
      "cell_type": "code",
      "source": [
        "print(\"Average Age:\", df['Age'].mean())\n",
        "print(\"Maximum Age:\", df['Age'].max())\n",
        "print(\"Minimum Age:\", df['Age'].min())\n"
      ],
      "metadata": {
        "colab": {
          "base_uri": "https://localhost:8080/"
        },
        "id": "M-RJBdqNEEOo",
        "outputId": "ea6bec9f-58df-4d55-a39f-5ae7ec21c5b3"
      },
      "execution_count": 20,
      "outputs": [
        {
          "output_type": "stream",
          "name": "stdout",
          "text": [
            "Average Age: 32.5\n",
            "Maximum Age: 40\n",
            "Minimum Age: 25\n"
          ]
        }
      ]
    },
    {
      "cell_type": "code",
      "source": [
        "import pandas as pd\n",
        "\n",
        "student_data = {\n",
        "    'Student_id': [4034,4033,1630,1036],\n",
        "    'Name' : ['Rohith','Sam','John','David'],\n",
        "    'Marks': [85,90,78,92],\n",
        "    'Department':['ECE','CSE','ECE','CSE']\n",
        "}\n",
        "df = pd.DataFrame(student_data)\n",
        "\n",
        "print(\"Student Data:\")\n",
        "print(df)\n"
      ],
      "metadata": {
        "colab": {
          "base_uri": "https://localhost:8080/"
        },
        "id": "Cy8ljAZ6FNVX",
        "outputId": "e7866480-48e9-4c18-e2c0-dd8cf9b04fd3"
      },
      "execution_count": 24,
      "outputs": [
        {
          "output_type": "stream",
          "name": "stdout",
          "text": [
            "Student Data:\n",
            "   Student_id    Name  Marks Department\n",
            "0        4034  Rohith     85        ECE\n",
            "1        4033     Sam     90        CSE\n",
            "2        1630    John     78        ECE\n",
            "3        1036   David     92        CSE\n"
          ]
        }
      ]
    },
    {
      "cell_type": "code",
      "source": [
        "print(\"Student Names:\")\n",
        "print(df['Name'])\n"
      ],
      "metadata": {
        "colab": {
          "base_uri": "https://localhost:8080/"
        },
        "id": "6ju5-0_qFR8X",
        "outputId": "0eef3412-ac90-44ab-8a85-4dbf3c54bb4b"
      },
      "execution_count": 25,
      "outputs": [
        {
          "output_type": "stream",
          "name": "stdout",
          "text": [
            "Student Names:\n",
            "0    Rohith\n",
            "1       Sam\n",
            "2      John\n",
            "3     David\n",
            "Name: Name, dtype: object\n"
          ]
        }
      ]
    },
    {
      "cell_type": "code",
      "source": [
        "print(\"Names and Marks:\")\n",
        "print(df[['Name','Marks']])\n"
      ],
      "metadata": {
        "colab": {
          "base_uri": "https://localhost:8080/"
        },
        "id": "mbqe0bi3FdEI",
        "outputId": "0b4b78ae-f012-4717-bc9b-79c73fc07374"
      },
      "execution_count": 26,
      "outputs": [
        {
          "output_type": "stream",
          "name": "stdout",
          "text": [
            "Names and Marks:\n",
            "     Name  Marks\n",
            "0  Rohith     85\n",
            "1     Sam     90\n",
            "2    John     78\n",
            "3   David     92\n"
          ]
        }
      ]
    },
    {
      "cell_type": "code",
      "source": [
        "\n",
        "print(\"2nd row using iloc:\")\n",
        "print(df.iloc[1])\n",
        "\n",
        "print(\"Row with index 2 using loc:\")\n",
        "print(df.loc[2])\n"
      ],
      "metadata": {
        "colab": {
          "base_uri": "https://localhost:8080/"
        },
        "id": "OnsCF0a0FhQn",
        "outputId": "2af340e8-2fdb-4115-dcfb-5f27b514d3fc"
      },
      "execution_count": 27,
      "outputs": [
        {
          "output_type": "stream",
          "name": "stdout",
          "text": [
            "2nd row using iloc:\n",
            "Student_id    4033\n",
            "Name           Sam\n",
            "Marks           90\n",
            "Department     CSE\n",
            "Name: 1, dtype: object\n",
            "Row with index 2 using loc:\n",
            "Student_id    1630\n",
            "Name          John\n",
            "Marks           78\n",
            "Department     ECE\n",
            "Name: 2, dtype: object\n"
          ]
        }
      ]
    },
    {
      "cell_type": "code",
      "source": [
        "\n",
        "print(\"2nd row using iloc:\")\n",
        "print(df.iloc[1])\n",
        "\n",
        "print(\"Row with index 2 using loc:\")\n",
        "print(df.loc[2])\n"
      ],
      "metadata": {
        "colab": {
          "base_uri": "https://localhost:8080/"
        },
        "id": "DatSDm3HFkot",
        "outputId": "541b7c90-9de6-45c2-a78a-acb175683cd4"
      },
      "execution_count": 28,
      "outputs": [
        {
          "output_type": "stream",
          "name": "stdout",
          "text": [
            "2nd row using iloc:\n",
            "Student_id    4033\n",
            "Name           Sam\n",
            "Marks           90\n",
            "Department     CSE\n",
            "Name: 1, dtype: object\n",
            "Row with index 2 using loc:\n",
            "Student_id    1630\n",
            "Name          John\n",
            "Marks           78\n",
            "Department     ECE\n",
            "Name: 2, dtype: object\n"
          ]
        }
      ]
    },
    {
      "cell_type": "code",
      "source": [
        "\n",
        "df['Grade'] = ['A','A+','B','A+']\n",
        "print(\"Student Data with Grades:\")\n",
        "print(df)\n"
      ],
      "metadata": {
        "colab": {
          "base_uri": "https://localhost:8080/"
        },
        "id": "4TQAnDr3Fo6H",
        "outputId": "35942fa9-3546-4d3c-8d36-8acf5a02e663"
      },
      "execution_count": 29,
      "outputs": [
        {
          "output_type": "stream",
          "name": "stdout",
          "text": [
            "Student Data with Grades:\n",
            "   Student_id    Name  Marks Department Grade\n",
            "0        4034  Rohith     85        ECE     A\n",
            "1        4033     Sam     90        CSE    A+\n",
            "2        1630    John     78        ECE     B\n",
            "3        1036   David     92        CSE    A+\n"
          ]
        }
      ]
    },
    {
      "cell_type": "code",
      "source": [
        "df = df.drop('Department', axis=1)\n",
        "print(\"After Removing Department Column:\")\n",
        "print(df)\n"
      ],
      "metadata": {
        "colab": {
          "base_uri": "https://localhost:8080/"
        },
        "id": "vZ1k-qxbFsJP",
        "outputId": "5a3aea11-6e4b-415d-a4b1-aed819219d9b"
      },
      "execution_count": 30,
      "outputs": [
        {
          "output_type": "stream",
          "name": "stdout",
          "text": [
            "After Removing Department Column:\n",
            "   Student_id    Name  Marks Grade\n",
            "0        4034  Rohith     85     A\n",
            "1        4033     Sam     90    A+\n",
            "2        1630    John     78     B\n",
            "3        1036   David     92    A+\n"
          ]
        }
      ]
    },
    {
      "cell_type": "code",
      "source": [
        "print(\"Students with Marks > 85:\")\n",
        "print(df[df['Marks'] > 85])\n"
      ],
      "metadata": {
        "colab": {
          "base_uri": "https://localhost:8080/"
        },
        "id": "310AZKETFvsD",
        "outputId": "38f78bb1-5069-49a4-e9aa-154c1d0cdb68"
      },
      "execution_count": 31,
      "outputs": [
        {
          "output_type": "stream",
          "name": "stdout",
          "text": [
            "Students with Marks > 85:\n",
            "   Student_id   Name  Marks Grade\n",
            "1        4033    Sam     90    A+\n",
            "3        1036  David     92    A+\n"
          ]
        }
      ]
    },
    {
      "cell_type": "code",
      "source": [
        "print(\"Average Marks:\", df['Marks'].mean())\n",
        "print(\"Maximum Marks:\", df['Marks'].max())\n",
        "print(\"Minimum Marks:\", df['Marks'].min())\n"
      ],
      "metadata": {
        "colab": {
          "base_uri": "https://localhost:8080/"
        },
        "id": "ZL_ZGkU_FyFM",
        "outputId": "a684d4cb-4f43-4655-9c44-c390c4ae9f6a"
      },
      "execution_count": 32,
      "outputs": [
        {
          "output_type": "stream",
          "name": "stdout",
          "text": [
            "Average Marks: 86.25\n",
            "Maximum Marks: 92\n",
            "Minimum Marks: 78\n"
          ]
        }
      ]
    }
  ]
}