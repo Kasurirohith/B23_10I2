{
  "nbformat": 4,
  "nbformat_minor": 0,
  "metadata": {
    "colab": {
      "provenance": [],
      "authorship_tag": "ABX9TyNP6QzPxXc+1r3Oo9sCGPKU",
      "include_colab_link": true
    },
    "kernelspec": {
      "name": "python3",
      "display_name": "Python 3"
    },
    "language_info": {
      "name": "python"
    }
  },
  "cells": [
    {
      "cell_type": "markdown",
      "metadata": {
        "id": "view-in-github",
        "colab_type": "text"
      },
      "source": [
        "<a href=\"https://colab.research.google.com/github/Kasurirohith/B23_10I2/blob/main/10i2-B23-LAB3-ipynb\" target=\"_parent\"><img src=\"https://colab.research.google.com/assets/colab-badge.svg\" alt=\"Open In Colab\"/></a>"
      ]
    },
    {
      "cell_type": "code",
      "execution_count": 1,
      "metadata": {
        "id": "D6k7hqkeF-S6"
      },
      "outputs": [],
      "source": [
        "import numpy as np\n",
        "import matplotlib.pyplot as plt\n"
      ]
    },
    {
      "cell_type": "code",
      "source": [
        "np.random.seed(42)\n",
        "scores = np.random.randint(50, 101, (4,4))\n",
        "rows = np.array([f\"Student_{i+1}\" for i in range(4)])\n",
        "cols = np.array([f\"Subject_{j+1}\" for j in range(4)])\n",
        "\n",
        "print(\"Test Scores (4x4):\")\n",
        "print(scores)\n"
      ],
      "metadata": {
        "colab": {
          "base_uri": "https://localhost:8080/"
        },
        "id": "IhRSufxnGBZC",
        "outputId": "a5bd406c-e331-4561-a46f-e1def55035cd"
      },
      "execution_count": 2,
      "outputs": [
        {
          "output_type": "stream",
          "name": "stdout",
          "text": [
            "Test Scores (4x4):\n",
            "[[88 78 64 92]\n",
            " [57 70 88 68]\n",
            " [72 60 60 73]\n",
            " [85 89 73 52]]\n"
          ]
        }
      ]
    },
    {
      "cell_type": "code",
      "source": [
        "row_means = np.mean(scores, axis=1)\n",
        "col_means = np.mean(scores, axis=0)\n",
        "row_medians = np.median(scores, axis=1)\n",
        "col_medians = np.median(scores, axis=0)\n",
        "\n",
        "print(\"Row means:\", row_means)\n",
        "print(\"Col means:\", col_means)\n",
        "print(\"Row medians:\", row_medians)\n",
        "print(\"Col medians:\", col_medians)\n"
      ],
      "metadata": {
        "colab": {
          "base_uri": "https://localhost:8080/"
        },
        "id": "fho5bJJUGIDW",
        "outputId": "98fa6f3a-770e-4d8b-c5d5-797a17f86dcd"
      },
      "execution_count": 3,
      "outputs": [
        {
          "output_type": "stream",
          "name": "stdout",
          "text": [
            "Row means: [80.5  70.75 66.25 74.75]\n",
            "Col means: [75.5  74.25 71.25 71.25]\n",
            "Row medians: [83. 69. 66. 79.]\n",
            "Col medians: [78.5 74.  68.5 70.5]\n"
          ]
        }
      ]
    },
    {
      "cell_type": "code",
      "source": [
        "overall_std = np.std(scores)\n",
        "overall_var = np.var(scores)\n",
        "row_std = np.std(scores, axis=1)\n",
        "col_std = np.std(scores, axis=0)\n",
        "row_var = np.var(scores, axis=1)\n",
        "col_var = np.var(scores, axis=0)\n",
        "\n",
        "print(\"Std overall:\", overall_std)\n",
        "print(\"Var overall:\", overall_var)\n",
        "print(\"Row std:\", row_std)\n",
        "print(\"Col std:\", col_std)\n",
        "print(\"Row var:\", row_var)\n",
        "print(\"Col var:\", col_var)\n"
      ],
      "metadata": {
        "colab": {
          "base_uri": "https://localhost:8080/"
        },
        "id": "Ha7ZPo2KGN15",
        "outputId": "5332f340-9f5d-4232-bbba-d111bbfcb9b9"
      },
      "execution_count": 4,
      "outputs": [
        {
          "output_type": "stream",
          "name": "stdout",
          "text": [
            "Std overall: 12.214073593605043\n",
            "Var overall: 149.18359375\n",
            "Row std: [10.80509139 11.12148821  6.25999201 14.39400917]\n",
            "Col std: [12.25765067 10.63896142 10.75581238 14.27191298]\n",
            "Row var: [116.75   123.6875  39.1875 207.1875]\n",
            "Col var: [150.25   113.1875 115.6875 203.6875]\n"
          ]
        }
      ]
    },
    {
      "cell_type": "code",
      "source": [
        "gmax = np.max(scores)\n",
        "gmin = np.min(scores)\n",
        "imax = np.unravel_index(np.argmax(scores), scores.shape)\n",
        "imin = np.unravel_index(np.argmin(scores), scores.shape)\n",
        "\n",
        "print(\"Global max:\", gmax, \"at index\", imax, \"->\", rows[imax[0]], cols[imax[1]])\n",
        "print(\"Global min:\", gmin, \"at index\", imin, \"->\", rows[imin[0]], cols[imin[1]])\n"
      ],
      "metadata": {
        "colab": {
          "base_uri": "https://localhost:8080/"
        },
        "id": "3irwWF_nGQ-Y",
        "outputId": "d60d2e5d-8cf3-4ac3-ef59-f2dc6d0fec37"
      },
      "execution_count": 5,
      "outputs": [
        {
          "output_type": "stream",
          "name": "stdout",
          "text": [
            "Global max: 92 at index (np.int64(0), np.int64(3)) -> Student_1 Subject_4\n",
            "Global min: 52 at index (np.int64(3), np.int64(3)) -> Student_4 Subject_4\n"
          ]
        }
      ]
    },
    {
      "cell_type": "code",
      "source": [
        "top_student = rows[np.argmax(row_means)]\n",
        "top_subject = cols[np.argmax(col_means)]\n",
        "hardest_subject = cols[np.argmin(col_means)]\n",
        "consistent_student = rows[np.argmin(row_std)]\n",
        "spread_subject = cols[np.argmax(col_std)]\n",
        "\n",
        "print(\"Top student by average:\", top_student)\n",
        "print(\"Top subject by average:\", top_subject)\n",
        "print(\"Hardest subject by average:\", hardest_subject)\n",
        "print(\"Most consistent student:\", consistent_student)\n",
        "print(\"Most variable subject:\", spread_subject)\n"
      ],
      "metadata": {
        "colab": {
          "base_uri": "https://localhost:8080/"
        },
        "id": "9h5macrgGWAQ",
        "outputId": "1fcdc935-b09e-4917-9387-2eed19503581"
      },
      "execution_count": 6,
      "outputs": [
        {
          "output_type": "stream",
          "name": "stdout",
          "text": [
            "Top student by average: Student_1\n",
            "Top subject by average: Subject_1\n",
            "Hardest subject by average: Subject_3\n",
            "Most consistent student: Student_3\n",
            "Most variable subject: Subject_4\n"
          ]
        }
      ]
    },
    {
      "cell_type": "code",
      "source": [
        "fig = plt.figure(figsize=(5,4))\n",
        "plt.imshow(scores, cmap=\"Blues\")\n",
        "for i in range(scores.shape[0]):\n",
        "    for j in range(scores.shape[1]):\n",
        "        label = str(scores[i,j])\n",
        "        if (i,j)==imax: label += \"\"\n",
        "        if (i,j)==imin: label += \"\"\n",
        "        plt.text(j, i, label, ha=\"center\", va=\"center\", color=\"black\")\n",
        "plt.xticks(range(4), cols)\n",
        "plt.yticks(range(4), rows)\n",
        "plt.title(\"Scores Heatmap ( max,  min)\")\n",
        "plt.colorbar(label=\"Score\")\n",
        "plt.show()\n"
      ],
      "metadata": {
        "colab": {
          "base_uri": "https://localhost:8080/",
          "height": 391
        },
        "id": "P4iNOoeSGaD2",
        "outputId": "a739cfe0-cf03-4d78-9039-8919c0bcc27e"
      },
      "execution_count": 9,
      "outputs": [
        {
          "output_type": "display_data",
          "data": {
            "text/plain": [
              "<Figure size 500x400 with 2 Axes>"
            ],
            "image/png": "[encoded data removed]"
          },
          "metadata": {}
        }
      ]
    }
  ]
}