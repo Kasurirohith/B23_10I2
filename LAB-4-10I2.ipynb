{
  "nbformat": 4,
  "nbformat_minor": 0,
  "metadata": {
    "colab": {
      "provenance": [],
      "authorship_tag": "ABX9TyODV6ZlOtpGu5l4Fopx7Fdt",
      "include_colab_link": true
    },
    "kernelspec": {
      "name": "python3",
      "display_name": "Python 3"
    },
    "language_info": {
      "name": "python"
    }
  },
  "cells": [
    {
      "cell_type": "markdown",
      "metadata": {
        "id": "view-in-github",
        "colab_type": "text"
      },
      "source": [
        "<a href=\"https://colab.research.google.com/github/Kasurirohith/B23_10I2/blob/main/LAB-4-10I2.ipynb\" target=\"_parent\"><img src=\"https://colab.research.google.com/assets/colab-badge.svg\" alt=\"Open In Colab\"/></a>"
      ]
    },
    {
      "cell_type": "markdown",
      "metadata": {
        "id": "0cddd0ac"
      },
      "source": [
        "# Factorial in Permutations and Arrangements\n",
        "\n",
        "**Objective:**\n",
        "Use recursive factorial to compute permutations (arrangements) of items or people using the formula:\n",
        "\n",
        "nPr = n! / (n-r)!"
      ]
    },
    {
      "cell_type": "code",
      "metadata": {
        "id": "1f7fa1fb"
      },
      "source": [
        "def factorial(n):\n",
        "    \"\"\"Calculates the factorial of a non-negative integer.\"\"\"\n",
        "    if n == 0:\n",
        "        return 1\n",
        "    else:\n",
        "        return n * factorial(n - 1)\n"
      ],
      "execution_count": 8,
      "outputs": []
    },
    {
      "cell_type": "code",
      "source": [
        "def factorial(n):\n",
        "    if n < 0:\n",
        "        raise ValueError(\"Factorial not defined for negative numbers\")\n",
        "    if n == 0 or n == 1:\n",
        "        return 1\n",
        "    return n * factorial(n-1)\n",
        "\n",
        "# Test factorial\n",
        "print(\"5! =\", factorial(5))\n",
        "print(\"6! =\", factorial(6))\n"
      ],
      "metadata": {
        "colab": {
          "base_uri": "https://localhost:8080/"
        },
        "id": "LUaKHnL9NRwk",
        "outputId": "f758973c-8743-44c7-906f-78af5e65c344"
      },
      "execution_count": 4,
      "outputs": [
        {
          "output_type": "stream",
          "name": "stdout",
          "text": [
            "5! = 120\n",
            "6! = 720\n"
          ]
        }
      ]
    },
    {
      "cell_type": "code",
      "source": [
        "def nPr(n, r):\n",
        "    if not (isinstance(n, int) and isinstance(r, int)):\n",
        "        raise TypeError(\"n and r must be integers\")\n",
        "    if n < 0 or r < 0:\n",
        "        raise ValueError(\"n and r must be non-negative\")\n",
        "    if r > n:\n",
        "        raise ValueError(\"r must be <= n\")\n",
        "    return factorial(n) // factorial(n-r)\n",
        "\n",
        "# Test with example\n",
        "print(\"5P3 =\", nPr(5, 3))\n",
        "print(\"6P2 =\", nPr(6, 2))\n"
      ],
      "metadata": {
        "colab": {
          "base_uri": "https://localhost:8080/"
        },
        "id": "G6QTctviNWi4",
        "outputId": "28b27a85-6e3c-4e92-ab02-0e9ef91e3020"
      },
      "execution_count": 9,
      "outputs": [
        {
          "output_type": "stream",
          "name": "stdout",
          "text": [
            "5P3 = 60\n",
            "6P2 = 30\n"
          ]
        }
      ]
    },
    {
      "cell_type": "code",
      "source": [
        "def nPr_steps(n, r):\n",
        "    if r > n:\n",
        "        raise ValueError(\"r must be <= n\")\n",
        "    terms = [n - i for i in range(r)]\n",
        "    product = 1\n",
        "    for t in terms:\n",
        "        product *= t\n",
        "    expr = \" * \".join(str(t) for t in terms)\n",
        "    return expr, product\n",
        "\n",
        "# Test with breakdown\n",
        "expr, prod = nPr_steps(5, 3)\n",
        "print(\"5P3:\", expr, \"=\", prod)\n",
        "\n",
        "expr2, prod2 = nPr_steps(6, 2)\n",
        "print(\"6P2:\", expr2, \"=\", prod2)\n"
      ],
      "metadata": {
        "colab": {
          "base_uri": "https://localhost:8080/"
        },
        "id": "V_RaSdjVNzYT",
        "outputId": "8aa0ea5d-fc48-4757-9cbe-c8c9c731917f"
      },
      "execution_count": 10,
      "outputs": [
        {
          "output_type": "stream",
          "name": "stdout",
          "text": [
            "5P3: 5 * 4 * 3 = 60\n",
            "6P2: 6 * 5 = 30\n"
          ]
        }
      ]
    },
    {
      "cell_type": "code",
      "source": [
        "def run_interactive():\n",
        "    try:\n",
        "        n = int(input(\"Enter n (total items): \"))\n",
        "        r = int(input(\"Enter r (places): \"))\n",
        "    except:\n",
        "        print(\"Please enter integers only\")\n",
        "        return\n",
        "    if r > n or n < 0 or r < 0:\n",
        "        print(\"Invalid inputs: need 0 <= r <= n\")\n",
        "        return\n",
        "    expr, product = nPr_steps(n, r)\n",
        "    print(f\"\\nComputing {n}P{r}\")\n",
        "    print(\"Expansion:\", expr)\n",
        "    print(\"Value:\", product)\n",
        "    print(f\"Using formula: {n}P{r} = {factorial(n)} / {factorial(n-r)} = {product}\")\n",
        "\n",
        "run_interactive()\n"
      ],
      "metadata": {
        "colab": {
          "base_uri": "https://localhost:8080/"
        },
        "id": "eZ0rucslN22c",
        "outputId": "38425f24-dff3-4e85-e0f1-59d659ef84aa"
      },
      "execution_count": 11,
      "outputs": [
        {
          "output_type": "stream",
          "name": "stdout",
          "text": [
            "Enter n (total items): 5\n",
            "Enter r (places): 2\n",
            "\n",
            "Computing 5P2\n",
            "Expansion: 5 * 4\n",
            "Value: 20\n",
            "Using formula: 5P2 = 120 / 6 = 20\n"
          ]
        }
      ]
    },
    {
      "cell_type": "code",
      "source": [
        "from itertools import permutations\n",
        "\n",
        "names = [\"Alice\", \"Bob\", \"Charlie\", \"Dave\", \"Eve\"]\n",
        "\n",
        "arr = list(permutations(names, 3))\n",
        "print(\"Number of seating arrangements (5P3):\", len(arr))\n",
        "print(\"First 10 arrangements:\")\n",
        "for i, a in enumerate(arr[:10], 1):\n",
        "    print(i, a)\n"
      ],
      "metadata": {
        "colab": {
          "base_uri": "https://localhost:8080/"
        },
        "id": "0_XG5JcKN9aZ",
        "outputId": "95d7fd00-93b8-4e0d-8950-a20e2f26eda8"
      },
      "execution_count": 12,
      "outputs": [
        {
          "output_type": "stream",
          "name": "stdout",
          "text": [
            "Number of seating arrangements (5P3): 60\n",
            "First 10 arrangements:\n",
            "1 ('Alice', 'Bob', 'Charlie')\n",
            "2 ('Alice', 'Bob', 'Dave')\n",
            "3 ('Alice', 'Bob', 'Eve')\n",
            "4 ('Alice', 'Charlie', 'Bob')\n",
            "5 ('Alice', 'Charlie', 'Dave')\n",
            "6 ('Alice', 'Charlie', 'Eve')\n",
            "7 ('Alice', 'Dave', 'Bob')\n",
            "8 ('Alice', 'Dave', 'Charlie')\n",
            "9 ('Alice', 'Dave', 'Eve')\n",
            "10 ('Alice', 'Eve', 'Bob')\n"
          ]
        }
      ]
    }
  ]
}